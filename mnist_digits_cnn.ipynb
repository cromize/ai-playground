{
 "cells": [
  {
   "cell_type": "code",
   "execution_count": 1,
   "metadata": {},
   "outputs": [],
   "source": [
    "# A simple CNN for digits recognition in tensorflow and keras (~99% accuracy)\n",
    "%matplotlib inline\n",
    "from tensorflow.python import keras\n",
    "from tensorflow.keras.optimizers import RMSprop\n",
    "from tensorflow.keras.datasets import mnist\n",
    "from tensorflow.keras.models import Sequential\n",
    "from tensorflow.keras.layers import Conv2D, MaxPooling2D, Dropout, Flatten, Dense\n",
    "import random\n",
    "import numpy as np\n",
    "import tensorflow as tf\n",
    "import matplotlib.pyplot as plt"
   ]
  },
  {
   "cell_type": "code",
   "execution_count": 2,
   "metadata": {},
   "outputs": [],
   "source": [
    "# training set size\n",
    "TRAIN_SIZE = 60000\n",
    "\n",
    "# load train and eval data\n",
    "((train_data, train_labels), (eval_data, eval_labels)) = mnist.load_data()\n",
    "\n",
    "# normalize\n",
    "train_data = train_data / np.float32(255)\n",
    "eval_data = eval_data / np.float32(255)\n",
    "\n",
    "# reshape for ConvNet\n",
    "# 60k training set and 10k test set\n",
    "train_labels = train_labels[:TRAIN_SIZE]\n",
    "X_train = train_data[:TRAIN_SIZE, :, :]\n",
    "X_train = X_train.reshape(TRAIN_SIZE, 28, 28, 1)\n",
    "X_eval = eval_data.reshape(10000, 28, 28, 1)"
   ]
  },
  {
   "cell_type": "code",
   "execution_count": 3,
   "metadata": {},
   "outputs": [],
   "source": [
    "# one-hot encoding\n",
    "y_train = tf.keras.utils.to_categorical(train_labels, num_classes=10)\n",
    "y_eval = tf.keras.utils.to_categorical(eval_labels, num_classes=10)"
   ]
  },
  {
   "cell_type": "code",
   "execution_count": 4,
   "metadata": {},
   "outputs": [
    {
     "name": "stdout",
     "output_type": "stream",
     "text": [
      "WARNING:tensorflow:From /home/cromize/.local/lib/python3.6/site-packages/tensorflow/python/ops/init_ops.py:1251: calling VarianceScaling.__init__ (from tensorflow.python.ops.init_ops) with dtype is deprecated and will be removed in a future version.\n",
      "Instructions for updating:\n",
      "Call initializer instance with the dtype argument instead of passing it to the constructor\n",
      "Model: \"sequential\"\n",
      "_________________________________________________________________\n",
      "Layer (type)                 Output Shape              Param #   \n",
      "=================================================================\n",
      "conv2d (Conv2D)              (None, 26, 26, 32)        320       \n",
      "_________________________________________________________________\n",
      "max_pooling2d (MaxPooling2D) (None, 13, 13, 32)        0         \n",
      "_________________________________________________________________\n",
      "dropout (Dropout)            (None, 13, 13, 32)        0         \n",
      "_________________________________________________________________\n",
      "conv2d_1 (Conv2D)            (None, 11, 11, 64)        18496     \n",
      "_________________________________________________________________\n",
      "max_pooling2d_1 (MaxPooling2 (None, 5, 5, 64)          0         \n",
      "_________________________________________________________________\n",
      "dropout_1 (Dropout)          (None, 5, 5, 64)          0         \n",
      "_________________________________________________________________\n",
      "conv2d_2 (Conv2D)            (None, 3, 3, 64)          36928     \n",
      "_________________________________________________________________\n",
      "flatten (Flatten)            (None, 576)               0         \n",
      "_________________________________________________________________\n",
      "dense (Dense)                (None, 128)               73856     \n",
      "_________________________________________________________________\n",
      "dropout_2 (Dropout)          (None, 128)               0         \n",
      "_________________________________________________________________\n",
      "dense_1 (Dense)              (None, 10)                1290      \n",
      "=================================================================\n",
      "Total params: 130,890\n",
      "Trainable params: 130,890\n",
      "Non-trainable params: 0\n",
      "_________________________________________________________________\n"
     ]
    }
   ],
   "source": [
    "# describe the model\n",
    "model = Sequential()\n",
    "model.add(Conv2D(32, (3, 3), activation='relu', input_shape=(28, 28, 1)))\n",
    "model.add(MaxPooling2D(2, 2))\n",
    "model.add(Dropout(0.5))\n",
    "model.add(Conv2D(64, (3, 3), activation='relu'))\n",
    "model.add(MaxPooling2D(2, 2))\n",
    "model.add(Dropout(0.5))\n",
    "model.add(Conv2D(64, (3, 3), activation='relu'))\n",
    "model.add(Flatten())\n",
    "model.add(Dense(128, activation='relu'))\n",
    "model.add(Dropout(0.5))\n",
    "model.add(Dense(10, activation='softmax'))\n",
    "\n",
    "# compile the model\n",
    "model.compile(optimizer=RMSprop(), loss='categorical_crossentropy', metrics=['acc'])\n",
    "model.summary()"
   ]
  },
  {
   "cell_type": "code",
   "execution_count": 5,
   "metadata": {},
   "outputs": [
    {
     "name": "stdout",
     "output_type": "stream",
     "text": [
      "Epoch 1/8\n",
      "60000/60000 [==============================] - 31s 514us/sample - loss: 0.4649 - acc: 0.8493\n",
      "Epoch 2/8\n",
      "60000/60000 [==============================] - 29s 482us/sample - loss: 0.1406 - acc: 0.9584\n",
      "Epoch 3/8\n",
      "60000/60000 [==============================] - 29s 476us/sample - loss: 0.1032 - acc: 0.9690\n",
      "Epoch 4/8\n",
      "60000/60000 [==============================] - 29s 484us/sample - loss: 0.0842 - acc: 0.9753\n",
      "Epoch 5/8\n",
      "60000/60000 [==============================] - 29s 477us/sample - loss: 0.0779 - acc: 0.9772\n",
      "Epoch 6/8\n",
      "60000/60000 [==============================] - 29s 486us/sample - loss: 0.0704 - acc: 0.9797\n",
      "Epoch 7/8\n",
      "60000/60000 [==============================] - 29s 478us/sample - loss: 0.0648 - acc: 0.9807\n",
      "Epoch 8/8\n",
      "60000/60000 [==============================] - 29s 481us/sample - loss: 0.0647 - acc: 0.9819\n"
     ]
    }
   ],
   "source": [
    "# train\n",
    "history = model.fit(X_train, y_train, epochs=8, batch_size=128, verbose=1)"
   ]
  },
  {
   "cell_type": "code",
   "execution_count": 6,
   "metadata": {},
   "outputs": [
    {
     "name": "stdout",
     "output_type": "stream",
     "text": [
      "10000/10000 [==============================] - 1s 98us/sample - loss: 0.0263 - acc: 0.9917\n"
     ]
    }
   ],
   "source": [
    "# evaluate using test data\n",
    "eval_results = model.evaluate(X_eval, y_eval, batch_size=128)"
   ]
  },
  {
   "cell_type": "code",
   "execution_count": 7,
   "metadata": {},
   "outputs": [
    {
     "data": {
      "image/png": "[encoded data removed]",
      "text/plain": [
       "<Figure size 432x288 with 2 Axes>"
      ]
     },
     "metadata": {
      "needs_background": "light"
     },
     "output_type": "display_data"
    }
   ],
   "source": [
    "# plot\n",
    "loss = history.history['loss']\n",
    "acc = history.history['acc']\n",
    "epochs = range(1, 9)\n",
    "\n",
    "fig = plt.figure()\n",
    "plt.subplot(121)\n",
    "plt.subplots_adjust(wspace=5.0)\n",
    "plt.plot(epochs, loss, 'b', label='Training Loss')\n",
    "plt.xlabel('Epochs')\n",
    "plt.ylabel('Loss')\n",
    "plt.legend()\n",
    "\n",
    "plt.subplot(122)\n",
    "plt.tight_layout()\n",
    "plt.plot(epochs, acc, 'k', label = 'Training Accuracy')\n",
    "plt.xlabel('Epochs')\n",
    "plt.ylabel('Accuracy')\n",
    "plt.legend()\n",
    "plt.show()"
   ]
  },
  {
   "cell_type": "code",
   "execution_count": 8,
   "metadata": {},
   "outputs": [
    {
     "data": {
      "image/png": "[encoded data removed]",
      "text/plain": [
       "<Figure size 432x288 with 5 Axes>"
      ]
     },
     "metadata": {
      "needs_background": "light"
     },
     "output_type": "display_data"
    },
    {
     "name": "stdout",
     "output_type": "stream",
     "text": [
      "[1 7 5 7 1]\n"
     ]
    }
   ],
   "source": [
    "# random predict\n",
    "idx = random.randint(0, 10000)\n",
    "pred = model.predict(X_eval[idx:idx+5, :, :])\n",
    "\n",
    "# show\n",
    "fig = plt.figure()\n",
    "for i in range(1, 6):\n",
    "  fig.add_subplot(4, 5, i)\n",
    "  plt.imshow(eval_data[idx+i-1])\n",
    "plt.show()\n",
    "\n",
    "labels = np.argmax(pred, axis=1)\n",
    "print(labels)"
   ]
  },
  {
   "cell_type": "code",
   "execution_count": null,
   "metadata": {},
   "outputs": [],
   "source": []
  }
 ],
 "metadata": {
  "kernelspec": {
   "display_name": "Python 3",
   "language": "python",
   "name": "python3"
  },
  "language_info": {
   "codemirror_mode": {
    "name": "ipython",
    "version": 3
   },
   "file_extension": ".py",
   "mimetype": "text/x-python",
   "name": "python",
   "nbconvert_exporter": "python",
   "pygments_lexer": "ipython3",
   "version": "3.6.8"
  }
 },
 "nbformat": 4,
 "nbformat_minor": 2
}
